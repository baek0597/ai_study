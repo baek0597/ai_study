{
 "cells": [
  {
   "cell_type": "markdown",
   "metadata": {},
   "source": [
    "### ④ 모델 활용"
   ]
  },
  {
   "cell_type": "code",
   "execution_count": 70,
   "metadata": {},
   "outputs": [],
   "source": [
    "# 모듈 불러오기\n",
    "import numpy as np\n",
    "import pandas as pd\n",
    "import matplotlib.pyplot as plt\n",
    "import tensorflow as tf"
   ]
  },
  {
   "cell_type": "code",
   "execution_count": 71,
   "metadata": {},
   "outputs": [],
   "source": [
    "# 데이터 & 모델 불러오기\n",
    "used = pd.read_csv('used_car_test.csv')\n",
    "stats = pd.read_csv(\"used_stats.csv\",index_col=0, encoding='CP949')\t# 첫번째 열을 인덱스로 지정\n",
    "used_model = tf.keras.models.load_model('used_model.h5')\n"
   ]
  },
  {
   "cell_type": "code",
   "execution_count": 72,
   "metadata": {},
   "outputs": [
    {
     "data": {
      "text/plain": [
       "Name                 0\n",
       "Location             0\n",
       "Year                 0\n",
       "Kilometers_Driven    0\n",
       "Fuel_Type            0\n",
       "Transmission         0\n",
       "Owner_Type           0\n",
       "Mileage              0\n",
       "Engine               0\n",
       "Power                0\n",
       "Seats                0\n",
       "Power_bhp            0\n",
       "dtype: int64"
      ]
     },
     "execution_count": 72,
     "metadata": {},
     "output_type": "execute_result"
    }
   ],
   "source": [
    "#결측치 검출\n",
    "used.isnull().sum()"
   ]
  },
  {
   "cell_type": "code",
   "execution_count": 73,
   "metadata": {},
   "outputs": [],
   "source": [
    "used_car = used  # 전처리용 데이터셋 생성"
   ]
  },
  {
   "cell_type": "code",
   "execution_count": 74,
   "metadata": {},
   "outputs": [],
   "source": [
    "# 범주형 데이터에서 수치 분리\n",
    "used_car['Mileage_kmpl'] = used_car['Mileage'].str.split(\" \").str[0]\n",
    "used_car['Engine_cc'] = used_car['Engine'].str.split(\" \").str[0]\n",
    "used_car['Power_bhp'] = used_car['Power'].str.split(\" \").str[0]\n",
    "\n",
    "# 실수형으로 변환\n",
    "used_car['Mileage_kmpl'] = used_car['Mileage_kmpl'].astype(float)\n",
    "used_car['Engine_cc'] = used_car['Engine_cc'].astype(float)\n",
    "used_car['Power_bhp'] = used_car['Power_bhp'].astype(float)"
   ]
  },
  {
   "cell_type": "code",
   "execution_count": 75,
   "metadata": {},
   "outputs": [],
   "source": [
    "# 불필요 행 삭제\n",
    "used_car.drop([\"Name\"], axis=1,inplace=True)\n",
    "used_car.drop([\"Mileage\"],axis=1,inplace=True)\n",
    "used_car.drop([\"Engine\"],axis=1,inplace=True)\n",
    "used_car.drop([\"Power\"],axis=1,inplace=True)\n",
    "used_car.drop([\"Location\"],axis=1,inplace=True)"
   ]
  },
  {
   "cell_type": "code",
   "execution_count": 76,
   "metadata": {},
   "outputs": [],
   "source": [
    "# 더미변수 생성\n",
    "used_car = pd.get_dummies(used_car)"
   ]
  },
  {
   "cell_type": "code",
   "execution_count": 77,
   "metadata": {},
   "outputs": [],
   "source": [
    "# 데이터셋 표준화\n",
    "def norm(x):\n",
    "  return (x - stats['mean']) / stats['std']\t\t# x를 한행씩 읽어와서 표준화 후 리턴\n",
    "normed = norm(used_car)\t\t\t# 데이터셋 표준화\n",
    "\n"
   ]
  },
  {
   "cell_type": "code",
   "execution_count": 78,
   "metadata": {},
   "outputs": [],
   "source": [
    "# 예측\n",
    "pred = used_model.predict(normed)"
   ]
  },
  {
   "cell_type": "code",
   "execution_count": 79,
   "metadata": {},
   "outputs": [],
   "source": [
    "# 원본 데이터셋에 예측열 생성\n",
    "used[\"Price_predict\"] = pred"
   ]
  },
  {
   "cell_type": "code",
   "execution_count": 80,
   "metadata": {},
   "outputs": [],
   "source": [
    "# 원본 데이터와 예측값을 csv 파일로 저장\n",
    "used.to_csv(\"used_car_predict.csv\", index=False)"
   ]
  }
 ],
 "metadata": {
  "kernelspec": {
   "display_name": "Python 3",
   "language": "python",
   "name": "python3"
  },
  "language_info": {
   "codemirror_mode": {
    "name": "ipython",
    "version": 3
   },
   "file_extension": ".py",
   "mimetype": "text/x-python",
   "name": "python",
   "nbconvert_exporter": "python",
   "pygments_lexer": "ipython3",
   "version": "3.8.5"
  }
 },
 "nbformat": 4,
 "nbformat_minor": 4
}
