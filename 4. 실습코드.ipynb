{
 "cells": [
  {
   "cell_type": "markdown",
   "metadata": {},
   "source": [
    "# 4장. AI 예측 분류 실습"
   ]
  },
  {
   "cell_type": "markdown",
   "metadata": {},
   "source": [
    "### Boston Housing"
   ]
  },
  {
   "cell_type": "code",
   "execution_count": null,
   "metadata": {
    "execution": {
     "iopub.execute_input": "2022-02-18T05:46:05.42928Z",
     "iopub.status.busy": "2022-02-18T05:46:05.428528Z",
     "iopub.status.idle": "2022-02-18T05:46:09.869634Z",
     "shell.execute_reply": "2022-02-18T05:46:09.868872Z",
     "shell.execute_reply.started": "2022-02-18T05:46:05.42919Z"
    }
   },
   "outputs": [],
   "source": [
    "#  모듈 불러오기\n",
    "import numpy as np\n",
    "import matplotlib.pyplot as plt\n",
    "import tensorflow as tf\n",
    "%matplotlib inline"
   ]
  },
  {
   "cell_type": "code",
   "execution_count": null,
   "metadata": {
    "execution": {
     "iopub.execute_input": "2022-02-09T23:20:14.486194Z",
     "iopub.status.busy": "2022-02-09T23:20:14.485886Z",
     "iopub.status.idle": "2022-02-09T23:20:15.528645Z",
     "shell.execute_reply": "2022-02-09T23:20:15.527924Z",
     "shell.execute_reply.started": "2022-02-09T23:20:14.486164Z"
    }
   },
   "outputs": [],
   "source": [
    "#  데이터셋 불러오기\n",
    "boston = tf.keras.datasets.boston_housing\n",
    "(x_train, y_train), (x_test, y_test) = boston.load_data()\n"
   ]
  },
  {
   "cell_type": "code",
   "execution_count": null,
   "metadata": {
    "execution": {
     "iopub.execute_input": "2022-02-09T23:20:37.613829Z",
     "iopub.status.busy": "2022-02-09T23:20:37.612959Z",
     "iopub.status.idle": "2022-02-09T23:20:37.622468Z",
     "shell.execute_reply": "2022-02-09T23:20:37.621593Z",
     "shell.execute_reply.started": "2022-02-09T23:20:37.613779Z"
    }
   },
   "outputs": [],
   "source": [
    "#  데이터셋 들여다 보기\n",
    "x_train.shape\t# 데이터셋 모양(404,13)\n"
   ]
  },
  {
   "cell_type": "code",
   "execution_count": null,
   "metadata": {
    "execution": {
     "iopub.execute_input": "2022-02-09T23:20:52.502454Z",
     "iopub.status.busy": "2022-02-09T23:20:52.501948Z",
     "iopub.status.idle": "2022-02-09T23:20:52.508688Z",
     "shell.execute_reply": "2022-02-09T23:20:52.507814Z",
     "shell.execute_reply.started": "2022-02-09T23:20:52.5024Z"
    }
   },
   "outputs": [],
   "source": [
    "y_train.shape\t# 데이터셋 모양(404,)\n"
   ]
  },
  {
   "cell_type": "code",
   "execution_count": null,
   "metadata": {
    "execution": {
     "iopub.execute_input": "2022-02-09T23:21:07.598838Z",
     "iopub.status.busy": "2022-02-09T23:21:07.598554Z",
     "iopub.status.idle": "2022-02-09T23:21:07.607311Z",
     "shell.execute_reply": "2022-02-09T23:21:07.606248Z",
     "shell.execute_reply.started": "2022-02-09T23:21:07.598808Z"
    }
   },
   "outputs": [],
   "source": [
    "x_train[0]\t\t# 첫번째 x 변수 내용 \n"
   ]
  },
  {
   "cell_type": "code",
   "execution_count": null,
   "metadata": {
    "execution": {
     "iopub.execute_input": "2022-02-09T23:21:27.346594Z",
     "iopub.status.busy": "2022-02-09T23:21:27.345878Z",
     "iopub.status.idle": "2022-02-09T23:21:27.353086Z",
     "shell.execute_reply": "2022-02-09T23:21:27.352272Z",
     "shell.execute_reply.started": "2022-02-09T23:21:27.346553Z"
    }
   },
   "outputs": [],
   "source": [
    "y_train[0]\t\t# 첫번째 y 변수 내용 \n"
   ]
  },
  {
   "cell_type": "code",
   "execution_count": null,
   "metadata": {
    "execution": {
     "iopub.execute_input": "2022-02-09T23:21:47.054315Z",
     "iopub.status.busy": "2022-02-09T23:21:47.054043Z",
     "iopub.status.idle": "2022-02-09T23:21:47.059904Z",
     "shell.execute_reply": "2022-02-09T23:21:47.059064Z",
     "shell.execute_reply.started": "2022-02-09T23:21:47.054287Z"
    }
   },
   "outputs": [],
   "source": [
    "type(x_train), type(y_train)\t# 데이터셋 유형    numpy.ndarray\n"
   ]
  },
  {
   "cell_type": "code",
   "execution_count": null,
   "metadata": {
    "execution": {
     "iopub.execute_input": "2022-02-09T23:22:05.33306Z",
     "iopub.status.busy": "2022-02-09T23:22:05.332449Z",
     "iopub.status.idle": "2022-02-09T23:22:05.340932Z",
     "shell.execute_reply": "2022-02-09T23:22:05.339945Z",
     "shell.execute_reply.started": "2022-02-09T23:22:05.333021Z"
    }
   },
   "outputs": [],
   "source": [
    "x_test.shape, y_test.shape  #  테스트 데이터셋 모양 \n"
   ]
  },
  {
   "cell_type": "code",
   "execution_count": null,
   "metadata": {
    "execution": {
     "iopub.execute_input": "2022-02-09T23:37:57.626428Z",
     "iopub.status.busy": "2022-02-09T23:37:57.626156Z",
     "iopub.status.idle": "2022-02-09T23:37:57.691134Z",
     "shell.execute_reply": "2022-02-09T23:37:57.690428Z",
     "shell.execute_reply.started": "2022-02-09T23:37:57.6264Z"
    }
   },
   "outputs": [],
   "source": [
    "#  네트워크 구조 정의\n",
    "model = tf.keras.models.Sequential([\n",
    "  tf.keras.Input(shape=13,),\n",
    "  tf.keras.layers.Dense(64, activation='relu'),\n",
    "  tf.keras.layers.Dense(32, activation='relu'),    \n",
    "  tf.keras.layers.Dense(16, activation='relu'), \n",
    "  tf.keras.layers.Dense(8, activation='relu'), \n",
    "  tf.keras.layers.Dense(1)])\n"
   ]
  },
  {
   "cell_type": "code",
   "execution_count": null,
   "metadata": {
    "execution": {
     "iopub.execute_input": "2022-02-09T23:41:33.121171Z",
     "iopub.status.busy": "2022-02-09T23:41:33.120457Z",
     "iopub.status.idle": "2022-02-09T23:41:33.129648Z",
     "shell.execute_reply": "2022-02-09T23:41:33.12867Z",
     "shell.execute_reply.started": "2022-02-09T23:41:33.121132Z"
    }
   },
   "outputs": [],
   "source": [
    "# 네크워크 구조 출력\n",
    "model.summary()\n"
   ]
  },
  {
   "cell_type": "code",
   "execution_count": null,
   "metadata": {
    "execution": {
     "iopub.execute_input": "2022-02-09T23:41:51.132939Z",
     "iopub.status.busy": "2022-02-09T23:41:51.132291Z",
     "iopub.status.idle": "2022-02-09T23:41:51.146004Z",
     "shell.execute_reply": "2022-02-09T23:41:51.14511Z",
     "shell.execute_reply.started": "2022-02-09T23:41:51.1329Z"
    }
   },
   "outputs": [],
   "source": [
    "#  모델 컴파일\n",
    "optimizer = tf.keras.optimizers.Adam(0.001)\t\t# 최적화함수로 Adam 활용, 학습율 0.001 지정\n",
    "#optimizer = tf.keras.optimizers.RMSprop(0.001)\t# 최적화함수로 RMSprop 활용, 학습율 0.001 지정\n",
    "model.compile(loss='mse',\t\t\t# 손실함수로 mse 사용\n",
    "              optimizer=optimizer)\n"
   ]
  },
  {
   "cell_type": "code",
   "execution_count": null,
   "metadata": {
    "execution": {
     "iopub.execute_input": "2022-02-09T23:42:03.964361Z",
     "iopub.status.busy": "2022-02-09T23:42:03.963632Z",
     "iopub.status.idle": "2022-02-09T23:42:33.939258Z",
     "shell.execute_reply": "2022-02-09T23:42:33.938416Z",
     "shell.execute_reply.started": "2022-02-09T23:42:03.964323Z"
    }
   },
   "outputs": [],
   "source": [
    "# 모델 훈련 및 평가 \n",
    "model.fit(x_train, y_train, epochs=1000)\t# epochs 1,000회 지정 후 학습\n",
    "model.evaluate(x_test,  y_test, verbose=2)\n"
   ]
  },
  {
   "cell_type": "code",
   "execution_count": null,
   "metadata": {
    "execution": {
     "iopub.execute_input": "2022-02-09T23:44:31.590801Z",
     "iopub.status.busy": "2022-02-09T23:44:31.590175Z",
     "iopub.status.idle": "2022-02-09T23:44:32.086745Z",
     "shell.execute_reply": "2022-02-09T23:44:32.08607Z",
     "shell.execute_reply.started": "2022-02-09T23:44:31.590754Z"
    }
   },
   "outputs": [],
   "source": [
    "#  예측 결과 확인\n",
    "pred = model.predict(x_test)\n",
    "plt.scatter(y_test,pred)\n"
   ]
  },
  {
   "cell_type": "markdown",
   "metadata": {},
   "source": [
    "### 이미지셋 데이터 다루기"
   ]
  },
  {
   "cell_type": "markdown",
   "metadata": {},
   "source": [
    "### 초보자용"
   ]
  },
  {
   "cell_type": "code",
   "execution_count": null,
   "metadata": {
    "execution": {
     "iopub.execute_input": "2022-02-10T00:51:54.372673Z",
     "iopub.status.busy": "2022-02-10T00:51:54.372349Z",
     "iopub.status.idle": "2022-02-10T00:51:59.612964Z",
     "shell.execute_reply": "2022-02-10T00:51:59.610895Z",
     "shell.execute_reply.started": "2022-02-10T00:51:54.372644Z"
    }
   },
   "outputs": [],
   "source": [
    "#  모듈 불러오기\n",
    "import numpy as np\n",
    "import matplotlib.pyplot as plt\n",
    "import tensorflow as tf\n",
    "%matplotlib inline  "
   ]
  },
  {
   "cell_type": "code",
   "execution_count": null,
   "metadata": {
    "execution": {
     "iopub.execute_input": "2022-02-10T00:51:59.622507Z",
     "iopub.status.busy": "2022-02-10T00:51:59.619126Z",
     "iopub.status.idle": "2022-02-10T00:52:01.227951Z",
     "shell.execute_reply": "2022-02-10T00:52:01.226934Z",
     "shell.execute_reply.started": "2022-02-10T00:51:59.622442Z"
    }
   },
   "outputs": [],
   "source": [
    "#  데이터셋 불러오기\n",
    "mnist = tf.keras.datasets.mnist\n",
    "(x_train, y_train), (x_test, y_test) = mnist.load_data()\n",
    "\n"
   ]
  },
  {
   "cell_type": "code",
   "execution_count": null,
   "metadata": {
    "execution": {
     "iopub.execute_input": "2022-02-10T00:52:05.175712Z",
     "iopub.status.busy": "2022-02-10T00:52:05.174575Z",
     "iopub.status.idle": "2022-02-10T00:52:05.185964Z",
     "shell.execute_reply": "2022-02-10T00:52:05.184744Z",
     "shell.execute_reply.started": "2022-02-10T00:52:05.175665Z"
    }
   },
   "outputs": [],
   "source": [
    "#  데이터셋 들여다 보기\n",
    "len(x_train)    # 데이터셋 길이    (60000)\n"
   ]
  },
  {
   "cell_type": "code",
   "execution_count": null,
   "metadata": {
    "execution": {
     "iopub.execute_input": "2022-02-10T00:52:06.805183Z",
     "iopub.status.busy": "2022-02-10T00:52:06.804092Z",
     "iopub.status.idle": "2022-02-10T00:52:06.814567Z",
     "shell.execute_reply": "2022-02-10T00:52:06.813594Z",
     "shell.execute_reply.started": "2022-02-10T00:52:06.805123Z"
    }
   },
   "outputs": [],
   "source": [
    "type(x_train)  # 데이터셋 유형    numpy.ndarray\n"
   ]
  },
  {
   "cell_type": "code",
   "execution_count": null,
   "metadata": {
    "execution": {
     "iopub.execute_input": "2022-02-10T00:52:09.383684Z",
     "iopub.status.busy": "2022-02-10T00:52:09.383361Z",
     "iopub.status.idle": "2022-02-10T00:52:09.391164Z",
     "shell.execute_reply": "2022-02-10T00:52:09.390201Z",
     "shell.execute_reply.started": "2022-02-10T00:52:09.383654Z"
    }
   },
   "outputs": [],
   "source": [
    "x_train.shape  # 데이터셋 모양   (60000, 28, 28)\n"
   ]
  },
  {
   "cell_type": "code",
   "execution_count": null,
   "metadata": {
    "execution": {
     "iopub.execute_input": "2022-02-10T00:52:14.091399Z",
     "iopub.status.busy": "2022-02-10T00:52:14.091062Z",
     "iopub.status.idle": "2022-02-10T00:52:14.101183Z",
     "shell.execute_reply": "2022-02-10T00:52:14.100006Z",
     "shell.execute_reply.started": "2022-02-10T00:52:14.09137Z"
    }
   },
   "outputs": [],
   "source": [
    "print(x_train)\n",
    "print(y_train)"
   ]
  },
  {
   "cell_type": "code",
   "execution_count": null,
   "metadata": {
    "execution": {
     "iopub.execute_input": "2022-02-10T00:52:19.926956Z",
     "iopub.status.busy": "2022-02-10T00:52:19.926351Z",
     "iopub.status.idle": "2022-02-10T00:52:19.934473Z",
     "shell.execute_reply": "2022-02-10T00:52:19.933211Z",
     "shell.execute_reply.started": "2022-02-10T00:52:19.926924Z"
    }
   },
   "outputs": [],
   "source": [
    "print(x_test)\n",
    "print(y_test)"
   ]
  },
  {
   "cell_type": "code",
   "execution_count": null,
   "metadata": {
    "execution": {
     "iopub.execute_input": "2022-02-10T00:52:24.571336Z",
     "iopub.status.busy": "2022-02-10T00:52:24.571028Z",
     "iopub.status.idle": "2022-02-10T00:52:24.841696Z",
     "shell.execute_reply": "2022-02-10T00:52:24.840612Z",
     "shell.execute_reply.started": "2022-02-10T00:52:24.571291Z"
    }
   },
   "outputs": [],
   "source": [
    "#  이미지 그려보기\n",
    "image = x_train[0]\n",
    "image.shape\n",
    "plt.imshow(image, 'gray')"
   ]
  },
  {
   "cell_type": "code",
   "execution_count": null,
   "metadata": {
    "execution": {
     "iopub.execute_input": "2022-02-10T00:52:26.268795Z",
     "iopub.status.busy": "2022-02-10T00:52:26.268041Z",
     "iopub.status.idle": "2022-02-10T00:52:26.486535Z",
     "shell.execute_reply": "2022-02-10T00:52:26.485533Z",
     "shell.execute_reply.started": "2022-02-10T00:52:26.26876Z"
    }
   },
   "outputs": [],
   "source": [
    "plt.title(y_train[1])\n",
    "plt.imshow(x_train[1], 'gray')\n",
    "plt.show()\n"
   ]
  },
  {
   "cell_type": "code",
   "execution_count": null,
   "metadata": {
    "execution": {
     "iopub.execute_input": "2022-02-10T00:52:27.722871Z",
     "iopub.status.busy": "2022-02-10T00:52:27.722576Z",
     "iopub.status.idle": "2022-02-10T00:52:27.729672Z",
     "shell.execute_reply": "2022-02-10T00:52:27.728369Z",
     "shell.execute_reply.started": "2022-02-10T00:52:27.722844Z"
    }
   },
   "outputs": [],
   "source": [
    "x_train.shape  # (60000, 28, 28)"
   ]
  },
  {
   "cell_type": "code",
   "execution_count": null,
   "metadata": {
    "execution": {
     "iopub.execute_input": "2022-02-10T00:52:29.910675Z",
     "iopub.status.busy": "2022-02-10T00:52:29.910298Z",
     "iopub.status.idle": "2022-02-10T00:52:29.918447Z",
     "shell.execute_reply": "2022-02-10T00:52:29.917354Z",
     "shell.execute_reply.started": "2022-02-10T00:52:29.910642Z"
    }
   },
   "outputs": [],
   "source": [
    "x_train[..., tf.newaxis].shape   #차원추가 (60000, 28, 28, 1)"
   ]
  },
  {
   "cell_type": "code",
   "execution_count": null,
   "metadata": {
    "execution": {
     "iopub.execute_input": "2022-02-10T00:52:31.381777Z",
     "iopub.status.busy": "2022-02-10T00:52:31.380354Z",
     "iopub.status.idle": "2022-02-10T00:52:56.607718Z",
     "shell.execute_reply": "2022-02-10T00:52:56.60661Z",
     "shell.execute_reply.started": "2022-02-10T00:52:31.38173Z"
    }
   },
   "outputs": [],
   "source": [
    "#  모듈 불러오기\n",
    "import tensorflow as tf\n",
    "\n",
    "#  데이터셋 전처리\n",
    "mnist = tf.keras.datasets.mnist\n",
    "(x_train, y_train), (x_test, y_test) = mnist.load_data()\n",
    "x_train, x_test = x_train / 255.0, x_test / 255.0\n",
    "\n",
    "#  네트워크 구조 정의\n",
    "model = tf.keras.models.Sequential([\n",
    "  tf.keras.layers.Flatten(input_shape=(28, 28)),\n",
    "  tf.keras.layers.Dense(128, activation='sigmoid'),\n",
    "  tf.keras.layers.Dense(10, activation='softmax')])\n",
    "\n",
    "#  모델 컴파일\n",
    "model.compile(optimizer='adam',\n",
    "              loss='sparse_categorical_crossentropy', metrics=['accuracy'])\n",
    "\n",
    "#  모델 훈련 및 평가\n",
    "model.fit(x_train, y_train, epochs=5)\n",
    "model.evaluate(x_test,  y_test, verbose=2)"
   ]
  },
  {
   "cell_type": "markdown",
   "metadata": {},
   "source": [
    "### 전문가용"
   ]
  },
  {
   "cell_type": "code",
   "execution_count": null,
   "metadata": {
    "execution": {
     "iopub.execute_input": "2022-02-10T00:53:48.596275Z",
     "iopub.status.busy": "2022-02-10T00:53:48.595657Z",
     "iopub.status.idle": "2022-02-10T00:54:09.188666Z",
     "shell.execute_reply": "2022-02-10T00:54:09.187701Z",
     "shell.execute_reply.started": "2022-02-10T00:53:48.59624Z"
    }
   },
   "outputs": [],
   "source": [
    "#  모듈 불러오기\n",
    "import tensorflow as tf\n",
    "\n",
    "#  데이터셋 전처리\n",
    "mnist = tf.keras.datasets.mnist\n",
    "(x_train, y_train), (x_test, y_test) = mnist.load_data()\n",
    "x_train, x_test = x_train / 255.0, x_test / 255.0\n",
    "x_train = x_train[..., tf.newaxis]\n",
    "x_test = x_test[..., tf.newaxis]\n",
    "train_ds = tf.data.Dataset.from_tensor_slices((x_train, y_train)).shuffle(10000).batch(32)\n",
    "test_ds = tf.data.Dataset.from_tensor_slices((x_test, y_test)).batch(32)\n",
    "\n",
    "\n",
    "#  네트워크 구조 정의\n",
    "class MyModel(tf.keras.Model):\n",
    "    def __init__(self):\n",
    "        super(MyModel, self).__init__()\n",
    "        self.flatten = tf.keras.layers.Flatten(input_shape=(28, 28))\n",
    "        self.d1 = tf.keras.layers.Dense(128, activation='sigmoid')\n",
    "        self.d2 = tf.keras.layers.Dense(10, activation='softmax')\n",
    "    def call(self, x):\n",
    "        x = self.flatten(x)\n",
    "        x = self.d1(x)\n",
    "        return self.d2(x)\n",
    "\n",
    "model = MyModel()\n",
    "\n",
    "# 학습 환경 설정\n",
    "# Define loss and optimizer\n",
    "loss_object = tf.keras.losses.SparseCategoricalCrossentropy()\n",
    "optimizer = tf.keras.optimizers.Adam()\n",
    "\n",
    "# Define performance metrics\n",
    "train_loss = tf.keras.metrics.Mean(name='train_loss')\n",
    "train_accuracy = tf.keras.metrics.SparseCategoricalAccuracy(name='train_accuracy')\n",
    "test_loss = tf.keras.metrics.Mean(name='test_loss')\n",
    "test_accuracy = tf.keras.metrics.SparseCategoricalAccuracy(name='test_accuracy')\n",
    "\n",
    "# 학습, 테스트 루프 정의\n",
    "# Implement training loop\n",
    "@tf.function\n",
    "def train_step(model, images, labels, loss_object, optimizer, train_loss, train_accuracy):\n",
    "    with tf.GradientTape() as tape:\n",
    "        predictions = model(images)\n",
    "        loss = loss_object(labels, predictions)\n",
    "    gradients = tape.gradient(loss, model.trainable_variables)\n",
    "    optimizer.apply_gradients(zip(gradients, model.trainable_variables))\n",
    "    train_loss(loss)\n",
    "    train_accuracy(labels, predictions)\n",
    "\n",
    "# Implement algorithm test\n",
    "@tf.function\n",
    "def test_step(model, images, labels, loss_object, test_loss, test_accuracy):\n",
    "    predictions = model(images)\n",
    "    t_loss = loss_object(labels, predictions)\n",
    "    test_loss(t_loss)\n",
    "    test_accuracy(labels, predictions)\n",
    "    \n",
    "    \n",
    "# 학습 및 테스트\n",
    "EPOCHS = 5\n",
    "\n",
    "for epoch in range(EPOCHS):\n",
    "    for images, labels in train_ds:\n",
    "        train_step(model, images, labels, loss_object, optimizer, train_loss, train_accuracy)\n",
    "    for test_images, test_labels in test_ds:\n",
    "        test_step(model, test_images, test_labels, loss_object, test_loss, test_accuracy)\n",
    "    template = '에포크: {}, 손실: {}, 정확도: {}, 테스트 손실: {}, 테스트 정확도: {}'\n",
    "    print(template.format(epoch + 1,\n",
    "                          train_loss.result(),\n",
    "                          train_accuracy.result() * 100,\n",
    "                          test_loss.result(),\n",
    "                          test_accuracy.result() * 100))\n",
    "    train_loss.reset_states()\n",
    "    train_accuracy.reset_states()\n",
    "    test_loss.reset_states()\n",
    "    test_accuracy.reset_states()\n"
   ]
  },
  {
   "cell_type": "code",
   "execution_count": null,
   "metadata": {},
   "outputs": [],
   "source": []
  }
 ],
 "metadata": {
  "kernelspec": {
   "display_name": "Python 3 (ipykernel)",
   "language": "python",
   "name": "python3"
  },
  "language_info": {
   "codemirror_mode": {
    "name": "ipython",
    "version": 3
   },
   "file_extension": ".py",
   "mimetype": "text/x-python",
   "name": "python",
   "nbconvert_exporter": "python",
   "pygments_lexer": "ipython3",
   "version": "3.8.12"
  }
 },
 "nbformat": 4,
 "nbformat_minor": 4
}
